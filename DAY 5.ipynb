{
 "cells": [
  {
   "cell_type": "code",
   "execution_count": 2,
   "metadata": {},
   "outputs": [
    {
     "name": "stdout",
     "output_type": "stream",
     "text": [
      "1 3 5 7 9 11 13 15 17 19 21 23 25 27 29 31 33 35 37 39 "
     ]
    }
   ],
   "source": [
    "for i in range(1,40,2):\n",
    " print(i,end=' ')"
   ]
  },
  {
   "cell_type": "code",
   "execution_count": 19,
   "metadata": {},
   "outputs": [
    {
     "name": "stdout",
     "output_type": "stream",
     "text": [
      "Hello UniverseQuantum Physics\n",
      "Hello universe\n",
      "-1\n",
      "False\n",
      "False\n",
      "quantum physics\n",
      "HELLO UNIVERSE\n",
      "Hello Universe\n",
      "hELLO uNIVERSE\n",
      "14\n",
      "Hewwo Universe\n",
      "Hello Universe\n",
      "QHello UniverseuHello UniverseaHello UniversenHello UniversetHello UniverseuHello UniversemHello Universe Hello UniversePHello UniversehHello UniverseyHello UniversesHello UniverseiHello UniversecHello Universes\n",
      "False\n",
      "False\n",
      "Quantum Physics\n"
     ]
    }
   ],
   "source": [
    "s1 = (\"Hello Universe\")\n",
    "s2 = (\"Quantum Physics\")\n",
    "print(s1+s2)\n",
    "print(s1.capitalize())\n",
    "print(s2.find('M'))\n",
    "print(s1.isalpha())\n",
    "print(s2.isdigit())\n",
    "print(s2.lower())\n",
    "print(s1.upper())\n",
    "print(s1.title())\n",
    "print(s1.swapcase())\n",
    "print(len(s1))\n",
    "print(s1.replace('l','w'))\n",
    "print(s1.zfill(5))\n",
    "print(s1.join(s2))\n",
    "print(s1.isalnum())\n",
    "print(s1.isspace())\n",
    "print(s2.expandtabs(4))"
   ]
  },
  {
   "cell_type": "code",
   "execution_count": 31,
   "metadata": {},
   "outputs": [
    {
     "name": "stdout",
     "output_type": "stream",
     "text": [
      "Nikola Tesla discovered Direct Current is not a palindrome\n"
     ]
    }
   ],
   "source": [
    "s1=(\"Nikola Tesla discovered Direct Current\")\n",
    "s2=s1[::-1]\n",
    "if s1==s2:\n",
    "    print(s1, \"is a palindrome\")\n",
    "else:\n",
    "    print(s1,\"is not a palindrome\")"
   ]
  },
  {
   "cell_type": "code",
   "execution_count": 39,
   "metadata": {},
   "outputs": [
    {
     "name": "stdout",
     "output_type": "stream",
     "text": [
      "Mount Everest@George Everest,a surveyor\n"
     ]
    }
   ],
   "source": [
    "s=(\"Mount Everest@George Everest,a surveyor\")\n",
    "print(s)"
   ]
  },
  {
   "cell_type": "code",
   "execution_count": null,
   "metadata": {},
   "outputs": [],
   "source": []
  }
 ],
 "metadata": {
  "kernelspec": {
   "display_name": "Python 3",
   "language": "python",
   "name": "python3"
  },
  "language_info": {
   "codemirror_mode": {
    "name": "ipython",
    "version": 3
   },
   "file_extension": ".py",
   "mimetype": "text/x-python",
   "name": "python",
   "nbconvert_exporter": "python",
   "pygments_lexer": "ipython3",
   "version": "3.7.6"
  }
 },
 "nbformat": 4,
 "nbformat_minor": 4
}
