{
 "cells": [
  {
   "cell_type": "code",
   "execution_count": 1,
   "metadata": {},
   "outputs": [
    {
     "name": "stdout",
     "output_type": "stream",
     "text": [
      "subtraction of c (1+1j)\n"
     ]
    }
   ],
   "source": [
    "a = (2+3j)\n",
    "b = (1+2j)\n",
    "c = a - b\n",
    "print(\"subtraction of c\", (c))"
   ]
  },
  {
   "cell_type": "code",
   "execution_count": 2,
   "metadata": {},
   "outputs": [
    {
     "name": "stdout",
     "output_type": "stream",
     "text": [
      "subtraction of c (1+1j)\n"
     ]
    }
   ],
   "source": [
    "a = (2+3j)\n",
    "b = (1+2j)\n",
    "c = a - b\n",
    "print(\"subtraction of c\", (c))"
   ]
  },
  {
   "cell_type": "code",
   "execution_count": 3,
   "metadata": {},
   "outputs": [
    {
     "name": "stdout",
     "output_type": "stream",
     "text": [
      "The value of x after swap = 15\n",
      "The value of y after swap = 10\n"
     ]
    }
   ],
   "source": [
    "x = 10\n",
    "y = 15\n",
    "temp = x\n",
    "x = y\n",
    "y = temp\n",
    "print(\"The value of x after swap =\", x)\n",
    "print(\"The value of y after swap =\", y)"
   ]
  },
  {
   "cell_type": "code",
   "execution_count": 4,
   "metadata": {},
   "outputs": [
    {
     "name": "stdout",
     "output_type": "stream",
     "text": [
      "After Swap x= 20 y= 10\n"
     ]
    }
   ],
   "source": [
    "x = 10\n",
    "y = 20\n",
    "x , y = y, x\n",
    "print(\"After Swap x=\",x ,\"y=\",y)"
   ]
  },
  {
   "cell_type": "code",
   "execution_count": 5,
   "metadata": {},
   "outputs": [
    {
     "data": {
      "text/plain": [
       "complex"
      ]
     },
     "execution_count": 5,
     "metadata": {},
     "output_type": "execute_result"
    }
   ],
   "source": [
    "a = 2-5j\n",
    "type(a)"
   ]
  },
  {
   "cell_type": "code",
   "execution_count": 6,
   "metadata": {},
   "outputs": [
    {
     "data": {
      "text/plain": [
       "str"
      ]
     },
     "execution_count": 6,
     "metadata": {},
     "output_type": "execute_result"
    }
   ],
   "source": [
    "a = \"Cricket Test match is played between England vs West Indies \"\n",
    "type(a)"
   ]
  },
  {
   "cell_type": "code",
   "execution_count": 7,
   "metadata": {},
   "outputs": [
    {
     "data": {
      "text/plain": [
       "float"
      ]
     },
     "execution_count": 7,
     "metadata": {},
     "output_type": "execute_result"
    }
   ],
   "source": [
    "a = 2421.1246\n",
    "type(a)"
   ]
  },
  {
   "cell_type": "code",
   "execution_count": 8,
   "metadata": {},
   "outputs": [
    {
     "data": {
      "text/plain": [
       "int"
      ]
     },
     "execution_count": 8,
     "metadata": {},
     "output_type": "execute_result"
    }
   ],
   "source": [
    "a = 58\n",
    "type(a)"
   ]
  },
  {
   "cell_type": "markdown",
   "metadata": {},
   "source": [
    "For Creating Github Profile:\n",
    "    a. Open the Github website\n",
    "    b. We should signup through the gmail account and we should give username to this.\n",
    "    c. By verifying your username and gmail account. After that your Github profile is launched.\n",
    "   \n",
    "For Uploading Assignments   \n",
    "    a. we should sign in to github account \n",
    "    b. Create reposiatory name as Letsupgrade-AI-ML, it should be made public\n",
    "    c. Open the Letsupgrade-AI-ML then upload the python file by dragging files or choose the files from the folder.\n",
    "    d. Then copy the URL of the github where you have uploaded.\n",
    "    e. Open the Assignment submission page given by letsupgrade team, their we should submit the email address, phone number,           paste  the URL,then Click on the Submit.\n",
    "  "
   ]
  }
 ],
 "metadata": {
  "kernelspec": {
   "display_name": "Python 3",
   "language": "python",
   "name": "python3"
  },
  "language_info": {
   "codemirror_mode": {
    "name": "ipython",
    "version": 3
   },
   "file_extension": ".py",
   "mimetype": "text/x-python",
   "name": "python",
   "nbconvert_exporter": "python",
   "pygments_lexer": "ipython3",
   "version": "3.7.6"
  }
 },
 "nbformat": 4,
 "nbformat_minor": 4
}
